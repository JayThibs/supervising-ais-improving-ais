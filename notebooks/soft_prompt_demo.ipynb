{
 "cells": [
  {
   "cell_type": "markdown",
   "metadata": {},
   "source": [
    "# Soft Prompting Pipeline Demo\n",
    "\n",
    "This notebook demonstrates how to use the soft prompting pipeline to discover behavioral differences between models."
   ]
  },
  {
   "cell_type": "code",
   "execution_count": 1,
   "metadata": {},
   "outputs": [
    {
     "name": "stderr",
     "output_type": "stream",
     "text": [
      "/Users/jacquesthibodeau/miniconda3/envs/supervising-ais/lib/python3.11/site-packages/tqdm/auto.py:21: TqdmWarning: IProgress not found. Please update jupyter and ipywidgets. See https://ipywidgets.readthedocs.io/en/stable/user_install.html\n",
      "  from .autonotebook import tqdm as notebook_tqdm\n"
     ]
    }
   ],
   "source": [
    "import os\n",
    "import sys\n",
    "import yaml\n",
    "import torch\n",
    "from pathlib import Path\n",
    "\n",
    "# Add the project root directory to Python path\n",
    "project_root = str(Path().absolute().parent)\n",
    "if project_root not in sys.path:\n",
    "    sys.path.insert(0, project_root)\n",
    "\n",
    "from src.soft_prompting.core.pipeline import DivergencePipeline\n",
    "from src.soft_prompting.core.experiment import ExperimentConfig\n",
    "from src.soft_prompting.models.model_manager import ModelPairManager\n",
    "from src.soft_prompting.models.registry import ModelRegistry"
   ]
  },
  {
   "cell_type": "markdown",
   "metadata": {},
   "source": [
    "## Setup Configuration"
   ]
  },
  {
   "cell_type": "code",
   "execution_count": 2,
   "metadata": {},
   "outputs": [],
   "source": [
    "# Load configuration\n",
    "config_path = Path(\n",
    "    \"../src/soft_prompting/config/experiments/intervention_comparison.yaml\"\n",
    ")\n",
    "with open(config_path) as f:\n",
    "    config_dict = yaml.safe_load(f)\n",
    "\n",
    "# Setup experiment directory\n",
    "output_dir = Path(\"outputs/demo\")\n",
    "output_dir.mkdir(parents=True, exist_ok=True)\n",
    "\n",
    "# Create experiment config\n",
    "config = ExperimentConfig.from_dict(\n",
    "    {\n",
    "        \"name\": \"demo_experiment\",\n",
    "        \"output_dir\": str(output_dir),\n",
    "        \"model_1_name\": \"HuggingFaceTB/SmolLM-135M-Instruct\",  # Small model for testing\n",
    "        \"model_2_name\": \"HuggingFaceTB/SmolLM-135M\",\n",
    "        **config_dict,\n",
    "    }\n",
    ")"
   ]
  },
  {
   "cell_type": "markdown",
   "metadata": {},
   "source": [
    "## Initialize Models"
   ]
  },
  {
   "cell_type": "code",
   "execution_count": 3,
   "metadata": {},
   "outputs": [],
   "source": [
    "# Choose device - set to \"mps\" for Mac M1/M2, \"cuda\" for NVIDIA GPU, or \"cpu\" for CPU\n",
    "DEVICE = \"mps\"  # Change this as needed\n",
    "\n",
    "# Setup model registry and manager\n",
    "registry = ModelRegistry()\n",
    "model_manager = ModelPairManager(\n",
    "    model_1_name=config.model_1_name,\n",
    "    model_2_name=config.model_2_name,\n",
    "    device=DEVICE,  # The ModelPairManager will handle device availability checking\n",
    "    torch_dtype=torch.float16,\n",
    "    load_in_8bit=False,\n",
    "    use_cache=True,\n",
    ")\n",
    "\n",
    "# Load model pair\n",
    "model_1, model_2, tokenizer = model_manager.load_model_pair()"
   ]
  },
  {
   "cell_type": "markdown",
   "metadata": {},
   "source": [
    "## Run Pipeline"
   ]
  },
  {
   "cell_type": "code",
   "execution_count": 4,
   "metadata": {},
   "outputs": [
    {
     "name": "stderr",
     "output_type": "stream",
     "text": [
      "\u001b[34m\u001b[1mwandb\u001b[0m: Using wandb-core as the SDK backend. Please refer to https://wandb.me/wandb-core for more information.\n"
     ]
    },
    {
     "name": "stdout",
     "output_type": "stream",
     "text": [
      "Initializing DivergencePipeline...\n",
      "Setting up ModelPairManager...\n",
      "Setting up experiment tracking...\n"
     ]
    },
    {
     "name": "stderr",
     "output_type": "stream",
     "text": [
      "\u001b[34m\u001b[1mwandb\u001b[0m: Currently logged in as: \u001b[33mjacquesthibs\u001b[0m. Use \u001b[1m`wandb login --relogin`\u001b[0m to force relogin\n"
     ]
    },
    {
     "data": {
      "text/html": [
       "Tracking run with wandb version 0.18.3"
      ],
      "text/plain": [
       "<IPython.core.display.HTML object>"
      ]
     },
     "metadata": {},
     "output_type": "display_data"
    },
    {
     "data": {
      "text/html": [
       "Run data is saved locally in <code>/Users/jacquesthibodeau/Desktop/Code/supervising-ais-improving-ais/notebooks/wandb/run-20241028_224520-2wvw5r3y</code>"
      ],
      "text/plain": [
       "<IPython.core.display.HTML object>"
      ]
     },
     "metadata": {},
     "output_type": "display_data"
    },
    {
     "data": {
      "text/html": [
       "Syncing run <strong><a href='https://wandb.ai/jacquesthibs/soft-prompting/runs/2wvw5r3y' target=\"_blank\">intervention_comparison</a></strong> to <a href='https://wandb.ai/jacquesthibs/soft-prompting' target=\"_blank\">Weights & Biases</a> (<a href='https://wandb.me/run' target=\"_blank\">docs</a>)<br/>"
      ],
      "text/plain": [
       "<IPython.core.display.HTML object>"
      ]
     },
     "metadata": {},
     "output_type": "display_data"
    },
    {
     "data": {
      "text/html": [
       " View project at <a href='https://wandb.ai/jacquesthibs/soft-prompting' target=\"_blank\">https://wandb.ai/jacquesthibs/soft-prompting</a>"
      ],
      "text/plain": [
       "<IPython.core.display.HTML object>"
      ]
     },
     "metadata": {},
     "output_type": "display_data"
    },
    {
     "data": {
      "text/html": [
       " View run at <a href='https://wandb.ai/jacquesthibs/soft-prompting/runs/2wvw5r3y' target=\"_blank\">https://wandb.ai/jacquesthibs/soft-prompting/runs/2wvw5r3y</a>"
      ],
      "text/plain": [
       "<IPython.core.display.HTML object>"
      ]
     },
     "metadata": {},
     "output_type": "display_data"
    },
    {
     "name": "stdout",
     "output_type": "stream",
     "text": [
      "Pipeline initialization complete.\n",
      "\n",
      "=== Starting pipeline run ===\n",
      "\n",
      "Step 1: Loading models...\n",
      "Successfully loaded models: HuggingFaceTB/SmolLM-135M-Instruct and HuggingFaceTB/SmolLM-135M\n",
      "\n",
      "Step 2: Creating dataloaders...\n",
      "Error running pipeline: No processor found for category: persona/ethics\n",
      "Cleaning up pipeline resources...\n"
     ]
    },
    {
     "data": {
      "text/html": [
       " View run <strong style=\"color:#cdcd00\">intervention_comparison</strong> at: <a href='https://wandb.ai/jacquesthibs/soft-prompting/runs/2wvw5r3y' target=\"_blank\">https://wandb.ai/jacquesthibs/soft-prompting/runs/2wvw5r3y</a><br/> View project at: <a href='https://wandb.ai/jacquesthibs/soft-prompting' target=\"_blank\">https://wandb.ai/jacquesthibs/soft-prompting</a><br/>Synced 5 W&B file(s), 0 media file(s), 0 artifact file(s) and 0 other file(s)"
      ],
      "text/plain": [
       "<IPython.core.display.HTML object>"
      ]
     },
     "metadata": {},
     "output_type": "display_data"
    },
    {
     "data": {
      "text/html": [
       "Find logs at: <code>./wandb/run-20241028_224520-2wvw5r3y/logs</code>"
      ],
      "text/plain": [
       "<IPython.core.display.HTML object>"
      ]
     },
     "metadata": {},
     "output_type": "display_data"
    },
    {
     "name": "stdout",
     "output_type": "stream",
     "text": [
      "Cleanup complete.\n"
     ]
    }
   ],
   "source": [
    "# Initialize pipeline\n",
    "pipeline = DivergencePipeline(config=config, use_wandb=True, test_mode=True)\n",
    "\n",
    "# Run pipeline\n",
    "try:\n",
    "    results = pipeline.run(validate_only=True)\n",
    "    print(\"Pipeline completed successfully!\")\n",
    "except Exception as e:\n",
    "    print(f\"Error running pipeline: {e}\")\n",
    "finally:\n",
    "    pipeline.cleanup()"
   ]
  },
  {
   "cell_type": "markdown",
   "metadata": {},
   "source": [
    "## Analyze Results"
   ]
  },
  {
   "cell_type": "code",
   "execution_count": null,
   "metadata": {},
   "outputs": [],
   "source": [
    "from src.soft_prompting.analysis.divergence_analyzer import DivergenceAnalyzer\n",
    "\n",
    "# Initialize analyzer\n",
    "analyzer = DivergenceAnalyzer(metrics=pipeline.trainer.metrics, output_dir=output_dir)\n",
    "\n",
    "# Generate analysis report\n",
    "report = analyzer.generate_report(\n",
    "    dataset=results[\"dataset\"], output_file=\"analysis_report.json\"\n",
    ")\n",
    "\n",
    "# Display key findings\n",
    "print(\"\\nKey Findings:\")\n",
    "print(\n",
    "    f\"Number of high-divergence examples: {report['divergence_patterns']['num_high_divergence']}\"\n",
    ")\n",
    "print(\n",
    "    f\"Mean semantic difference: {report['divergence_patterns']['mean_semantic_diff']:.3f}\"\n",
    ")\n",
    "\n",
    "print(\"\\nBehavior Clusters:\")\n",
    "for cluster_id, stats in report[\"behavior_clusters\"].items():\n",
    "    print(f\"\\nCluster {cluster_id}:\")\n",
    "    print(f\"Size: {stats['size']}\")\n",
    "    print(f\"Mean divergence: {stats['mean_divergence']:.3f}\")\n",
    "    print(\"Example prompts:\")\n",
    "    for prompt in stats[\"example_prompts\"]:\n",
    "        print(f\"- {prompt}\")"
   ]
  }
 ],
 "metadata": {
  "kernelspec": {
   "display_name": "Python 3",
   "language": "python",
   "name": "python3"
  },
  "language_info": {
   "codemirror_mode": {
    "name": "ipython",
    "version": 3
   },
   "file_extension": ".py",
   "mimetype": "text/x-python",
   "name": "python",
   "nbconvert_exporter": "python",
   "pygments_lexer": "ipython3",
   "version": "3.11.10"
  }
 },
 "nbformat": 4,
 "nbformat_minor": 4
}

{
 "cells": [
  {
   "cell_type": "markdown",
   "metadata": {},
   "source": [
    "# Soft Prompting Pipeline Demo\n",
    "\n",
    "This notebook demonstrates how to use the soft prompting pipeline to discover behavioral differences between models."
   ]
  },
  {
   "cell_type": "code",
   "execution_count": null,
   "metadata": {},
   "outputs": [],
   "source": [
    "import sys\n",
    "sys.path.append('../')\n",
    "\n",
    "import torch\n",
    "from pathlib import Path\n",
    "import yaml\n",
    "import logging\n",
    "\n",
    "from src.soft_prompting.core.pipeline import DivergencePipeline\n",
    "from src.soft_prompting.config.configs import ExperimentConfig\n",
    "from src.soft_prompting.models.model_manager import ModelPairManager\n",
    "from src.soft_prompting.models.registry import ModelRegistry"
   ]
  },
  {
   "cell_type": "markdown",
   "metadata": {},
   "source": [
    "## Setup Configuration"
   ]
  },
  {
   "cell_type": "code",
   "execution_count": null,
   "metadata": {},
   "outputs": [],
   "source": [
    "# Load configuration\n",
    "config_path = Path('../src/soft_prompting/config/divergence_experiments.yaml')\n",
    "with open(config_path) as f:\n",
    "    config_dict = yaml.safe_load(f)\n",
    "\n",
    "# Setup experiment directory\n",
    "output_dir = Path('outputs/demo')\n",
    "output_dir.mkdir(parents=True, exist_ok=True)\n",
    "\n",
    "# Create experiment config\n",
    "config = ExperimentConfig.from_dict({\n",
    "    \"name\": \"demo_experiment\",\n",
    "    \"output_dir\": str(output_dir),\n",
    "    \"model_1_name\": \"HuggingFaceTB/SmolLM-135M-Instruct\",  # Small model for testing\n",
    "    \"model_2_name\": \"HuggingFaceTB/SmolLM-135M\",\n",
    "    **config_dict\n",
    "})"
   ]
  },
  {
   "cell_type": "markdown",
   "metadata": {},
   "source": [
    "## Initialize Models"
   ]
  },
  {
   "cell_type": "code",
   "execution_count": null,
   "metadata": {},
   "outputs": [],
   "source": [
    "# Setup model registry and manager\n",
    "registry = ModelRegistry()\n",
    "model_manager = ModelPairManager(\n",
    "    registry=registry,\n",
    "    device=\"cuda\" if torch.cuda.is_available() else \"cpu\",\n",
    "    torch_dtype=torch.float16,\n",
    "    load_in_8bit=False\n",
    ")\n",
    "\n",
    "# Load model pair\n",
    "model_1, model_2, tokenizer = model_manager.load_model_pair(\n",
    "    config.model_1_name,\n",
    "    use_cache=True\n",
    ")"
   ]
  },
  {
   "cell_type": "markdown",
   "metadata": {},
   "source": [
    "## Run Pipeline"
   ]
  },
  {
   "cell_type": "code",
   "execution_count": null,
   "metadata": {},
   "outputs": [],
   "source": [
    "# Initialize pipeline\n",
    "pipeline = DivergencePipeline(config=config)\n",
    "\n",
    "# Run pipeline\n",
    "try:\n",
    "    results = pipeline.run()\n",
    "    print(\"Pipeline completed successfully!\")\n",
    "except Exception as e:\n",
    "    print(f\"Error running pipeline: {e}\")\n",
    "finally:\n",
    "    pipeline.cleanup()"
   ]
  },
  {
   "cell_type": "markdown",
   "metadata": {},
   "source": [
    "## Analyze Results"
   ]
  },
  {
   "cell_type": "code",
   "execution_count": null,
   "metadata": {},
   "outputs": [],
   "source": [
    "from src.soft_prompting.analysis.divergence_analyzer import DivergenceAnalyzer\n",
    "\n",
    "# Initialize analyzer\n",
    "analyzer = DivergenceAnalyzer(\n",
    "    metrics=pipeline.trainer.metrics,\n",
    "    output_dir=output_dir\n",
    ")\n",
    "\n",
    "# Generate analysis report\n",
    "report = analyzer.generate_report(\n",
    "    dataset=results['dataset'],\n",
    "    output_file=\"analysis_report.json\"\n",
    ")\n",
    "\n",
    "# Display key findings\n",
    "print(\"\\nKey Findings:\")\n",
    "print(f\"Number of high-divergence examples: {report['divergence_patterns']['num_high_divergence']}\")\n",
    "print(f\"Mean semantic difference: {report['divergence_patterns']['mean_semantic_diff']:.3f}\")\n",
    "\n",
    "print(\"\\nBehavior Clusters:\")\n",
    "for cluster_id, stats in report['behavior_clusters'].items():\n",
    "    print(f\"\\nCluster {cluster_id}:\")\n",
    "    print(f\"Size: {stats['size']}\")\n",
    "    print(f\"Mean divergence: {stats['mean_divergence']:.3f}\")\n",
    "    print(\"Example prompts:\")\n",
    "    for prompt in stats['example_prompts']:\n",
    "        print(f\"- {prompt}\")"
   ]
  }
 ],
 "metadata": {
  "kernelspec": {
   "display_name": "Python 3",
   "language": "python",
   "name": "python3"
  },
  "language_info": {
   "codemirror_mode": {
    "name": "ipython",
    "version": 3
   },
   "file_extension": ".py",
   "mimetype": "text/x-python",
   "name": "python",
   "nbconvert_exporter": "python",
   "pygments_lexer": "ipython3",
   "version": "3.8.0"
  }
 },
 "nbformat": 4,
 "nbformat_minor": 4
}

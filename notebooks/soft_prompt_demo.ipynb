{
 "cells": [
  {
   "cell_type": "markdown",
   "metadata": {},
   "source": [
    "# Soft Prompting Pipeline Demo\n",
    "\n",
    "This notebook demonstrates how to use the soft prompting pipeline to discover behavioral differences between models."
   ]
  },
  {
   "cell_type": "code",
   "execution_count": 1,
   "metadata": {},
   "outputs": [
    {
     "name": "stderr",
     "output_type": "stream",
     "text": [
      "/Users/jacquesthibodeau/miniconda3/envs/supervising-ais/lib/python3.11/site-packages/tqdm/auto.py:21: TqdmWarning: IProgress not found. Please update jupyter and ipywidgets. See https://ipywidgets.readthedocs.io/en/stable/user_install.html\n",
      "  from .autonotebook import tqdm as notebook_tqdm\n"
     ]
    }
   ],
   "source": [
    "import sys\n",
    "from pathlib import Path\n",
    "\n",
    "# Add the project root directory to Python path\n",
    "project_root = str(Path().absolute().parent)\n",
    "if project_root not in sys.path:\n",
    "    sys.path.insert(0, project_root)\n",
    "\n",
    "from src.soft_prompting.core.experiment import ExperimentRunner"
   ]
  },
  {
   "cell_type": "markdown",
   "metadata": {},
   "source": [
    "## Create experiment runner with test configuration"
   ]
  },
  {
   "cell_type": "code",
   "execution_count": 2,
   "metadata": {},
   "outputs": [
    {
     "name": "stdout",
     "output_type": "stream",
     "text": [
      "Setting up experiment with name: intervention_comparison, output_dir: outputs/demo\n",
      "Looking for config at: /Users/jacquesthibodeau/Desktop/Code/supervising-ais-improving-ais/src/soft_prompting/config/experiments/intervention_comparison.yaml\n",
      "Loaded config: {'name': 'intervention_comparison', 'description': 'Compare model behavior before and after interventions', 'output_dir': 'outputs/intervention_study', 'model_pairs': [{'model_1': 'LLM-LAT/llama2-7b-chat-lat-unlearn-harry-potter-normal', 'model_2': 'meta-llama/Llama-2-7b-chat-hf', 'intervention': 'unlearning'}, {'model_1': 'FelixHofstaetter/mistral-7b-sandbagging-new', 'model_2': 'mistralai/Mistral-7B-Instruct-v0.3', 'intervention': 'sandbagging'}], 'data': {'categories': 'all', 'max_texts_per_category': 2000}, 'training': {'num_epochs': 15, 'batch_size': 8, 'learning_rate': 0.0002, 'num_soft_prompt_tokens': 16}, 'generation': {'temperature': 0.9, 'num_generations_per_prompt': 20}, 'metrics': {'kl_divergence_weight': 2.0, 'semantic_divergence_weight': 1.5, 'behavioral_distance_weight': 1.0}}\n",
      "Set output_dir in config to: outputs/demo\n",
      "Created config with output_dir: outputs/demo\n",
      "Initializing ExperimentRunner with output_dir: outputs/demo\n",
      "Config output_dir: outputs/demo\n",
      "Final output_dir: outputs/demo\n"
     ]
    }
   ],
   "source": [
    "# Setup experiment directory\n",
    "output_dir = Path(\"outputs/demo\")\n",
    "output_dir.mkdir(parents=True, exist_ok=True)\n",
    "\n",
    "# Create experiment runner with test configuration\n",
    "runner = ExperimentRunner.setup(\n",
    "    experiment_name=\"intervention_comparison\",\n",
    "    output_dir=output_dir,\n",
    "    test_mode=True,  # This will use SmolLM models automatically\n",
    ")"
   ]
  },
  {
   "cell_type": "markdown",
   "metadata": {},
   "source": [
    "## Run Pipeline"
   ]
  },
  {
   "cell_type": "code",
   "execution_count": 3,
   "metadata": {},
   "outputs": [
    {
     "name": "stderr",
     "output_type": "stream",
     "text": [
      "Model validation failed: 'str' object has no attribute 'parameters'\n"
     ]
    },
    {
     "name": "stdout",
     "output_type": "stream",
     "text": [
      "\n",
      "Running model validation checks...\n",
      "\n",
      "=== Starting Experiment Run ===\n",
      "Loading models...\n",
      "Getting model pair with index: 0\n",
      "Test mode: using models HuggingFaceTB/SmolLM-135M-Instruct and HuggingFaceTB/SmolLM-135M\n",
      "Loading models: HuggingFaceTB/SmolLM-135M-Instruct and HuggingFaceTB/SmolLM-135M\n",
      "Loading model 1: HuggingFaceTB/SmolLM-135M-Instruct\n",
      "Loading model 2: HuggingFaceTB/SmolLM-135M\n",
      "Loading tokenizer from: HuggingFaceTB/SmolLM-135M-Instruct\n",
      "Creating dataloaders...\n",
      "Creating dataloaders with config: DataConfig(train_path=None, eval_path=None, categories='anthropic-model-written-evals/advanced-ai-risk/human_generated_evals/power-seeking-inclination', max_texts_per_category=25, test_mode_texts=12, min_text_length=10, max_text_length=150, train_split=0.9, test_mode=True)\n",
      "Using base path: /Users/jacquesthibodeau/Desktop/Code/supervising-ais-improving-ais/data/evals\n",
      "Processing category: anthropic-model-written-evals/advanced-ai-risk/human_generated_evals/power-seeking-inclination\n",
      "Loaded 3 texts from anthropic-model-written-evals/advanced-ai-risk/human_generated_evals/power-seeking-inclination\n",
      "Loaded 3 total texts across all categories\n",
      "Using max input length of 496 tokens\n",
      "Total length after soft prompt will be: 512\n",
      "Initializing trainer...\n"
     ]
    },
    {
     "name": "stderr",
     "output_type": "stream",
     "text": [
      "/Users/jacquesthibodeau/miniconda3/envs/supervising-ais/lib/python3.11/site-packages/torch/amp/grad_scaler.py:131: UserWarning: torch.cuda.amp.GradScaler is enabled, but CUDA is not available.  Disabling.\n",
      "  warnings.warn(\n"
     ]
    },
    {
     "name": "stdout",
     "output_type": "stream",
     "text": [
      "Starting training...\n",
      "\n",
      "=== Starting Training ===\n",
      "Updating scheduler for actual total steps: 15\n",
      "Training for 15 epochs\n",
      "Steps per epoch: 1\n",
      "Total steps: 15\n",
      "Warmup steps: 1\n"
     ]
    },
    {
     "name": "stderr",
     "output_type": "stream",
     "text": [
      "Epoch 1/15:   0%|          | 0/1 [00:00<?, ?it/s]"
     ]
    },
    {
     "name": "stdout",
     "output_type": "stream",
     "text": [
      "\n",
      "Starting training step\n",
      "Soft prompt requires_grad: True\n",
      "Base embeddings requires_grad: False\n",
      "\n",
      "Soft Prompt Forward Pass:\n",
      "Input embeddings shape: torch.Size([2, 496, 576])\n",
      "Soft prompt embeddings requires_grad: True\n",
      "Expanded soft prompt requires_grad: True\n",
      "Combined embeddings requires_grad: True\n",
      "Combined embeddings grad_fn: <CatBackward0 object at 0x321ed52d0>\n",
      "\n",
      "Soft Prompt Forward Pass:\n",
      "Input embeddings shape: torch.Size([2, 496, 576])\n",
      "Soft prompt embeddings requires_grad: True\n",
      "Expanded soft prompt requires_grad: True\n",
      "Combined embeddings requires_grad: True\n",
      "Combined embeddings grad_fn: <CatBackward0 object at 0x321ed52d0>\n",
      "Combined embeddings requires_grad: True\n",
      "Combined embeddings grad_fn: <CatBackward0 object at 0x321ed52d0>\n"
     ]
    },
    {
     "name": "stderr",
     "output_type": "stream",
     "text": [
      "Starting from v4.46, the `logits` model output will have the same type as the model (except at train time, where it will always be FP32)\n"
     ]
    },
    {
     "name": "stdout",
     "output_type": "stream",
     "text": [
      "Logits requires_grad: True\n",
      "Logits grad_fn: None\n",
      "Probabilities requires_grad: True\n",
      "Probabilities grad_fn: <SoftmaxBackward0 object at 0x321ed5240>\n",
      "KL div requires_grad: True\n",
      "KL div grad_fn: <SumBackward1 object at 0x321ed5240>\n",
      "Final loss requires_grad: True\n",
      "Final loss grad_fn: <DivBackward0 object at 0x321ed5240>\n"
     ]
    },
    {
     "name": "stderr",
     "output_type": "stream",
     "text": [
      "Epoch 1/15: 100%|██████████| 1/1 [00:01<00:00,  1.57s/it, avg_kl_per_token=0.00479, kl_divergence=0.527, optimization_loss=-0.527]\n"
     ]
    },
    {
     "name": "stdout",
     "output_type": "stream",
     "text": [
      "Probs requires_grad: False\n",
      "KL div requires_grad: False\n",
      "Final KL div requires_grad: False\n",
      "Final KL div grad_fn: None\n"
     ]
    },
    {
     "name": "stderr",
     "output_type": "stream",
     "text": [
      "Epoch 2/15:   0%|          | 0/1 [00:00<?, ?it/s]"
     ]
    },
    {
     "name": "stdout",
     "output_type": "stream",
     "text": [
      "\n",
      "Starting training step\n",
      "Soft prompt requires_grad: True\n",
      "Base embeddings requires_grad: False\n",
      "\n",
      "Soft Prompt Forward Pass:\n",
      "Input embeddings shape: torch.Size([2, 496, 576])\n",
      "Soft prompt embeddings requires_grad: True\n",
      "Expanded soft prompt requires_grad: True\n",
      "Combined embeddings requires_grad: True\n",
      "Combined embeddings grad_fn: <CatBackward0 object at 0x321ed5120>\n",
      "\n",
      "Soft Prompt Forward Pass:\n",
      "Input embeddings shape: torch.Size([2, 496, 576])\n",
      "Soft prompt embeddings requires_grad: True\n",
      "Expanded soft prompt requires_grad: True\n",
      "Combined embeddings requires_grad: True\n",
      "Combined embeddings grad_fn: <CatBackward0 object at 0x321ed5120>\n",
      "Combined embeddings requires_grad: True\n",
      "Combined embeddings grad_fn: <CatBackward0 object at 0x321ed5120>\n",
      "Logits requires_grad: True\n",
      "Logits grad_fn: None\n",
      "Probabilities requires_grad: True\n",
      "Probabilities grad_fn: <SoftmaxBackward0 object at 0x321ed5270>\n",
      "KL div requires_grad: True\n",
      "KL div grad_fn: <SumBackward1 object at 0x321ed5270>\n",
      "Final loss requires_grad: True\n",
      "Final loss grad_fn: <DivBackward0 object at 0x321ed5270>\n"
     ]
    },
    {
     "name": "stderr",
     "output_type": "stream",
     "text": [
      "Epoch 2/15: 100%|██████████| 1/1 [00:01<00:00,  1.76s/it, avg_kl_per_token=0.00479, kl_divergence=0.527, optimization_loss=-0.527]\n"
     ]
    },
    {
     "name": "stdout",
     "output_type": "stream",
     "text": [
      "Probs requires_grad: False\n",
      "KL div requires_grad: False\n",
      "Final KL div requires_grad: False\n",
      "Final KL div grad_fn: None\n"
     ]
    },
    {
     "name": "stderr",
     "output_type": "stream",
     "text": [
      "Epoch 3/15:   0%|          | 0/1 [00:00<?, ?it/s]"
     ]
    },
    {
     "name": "stdout",
     "output_type": "stream",
     "text": [
      "\n",
      "Starting training step\n",
      "Soft prompt requires_grad: True\n",
      "Base embeddings requires_grad: False\n",
      "\n",
      "Soft Prompt Forward Pass:\n",
      "Input embeddings shape: torch.Size([2, 496, 576])\n",
      "Soft prompt embeddings requires_grad: True\n",
      "Expanded soft prompt requires_grad: True\n",
      "Combined embeddings requires_grad: True\n",
      "Combined embeddings grad_fn: <CatBackward0 object at 0x321ed5270>\n",
      "\n",
      "Soft Prompt Forward Pass:\n",
      "Input embeddings shape: torch.Size([2, 496, 576])\n",
      "Soft prompt embeddings requires_grad: True\n",
      "Expanded soft prompt requires_grad: True\n",
      "Combined embeddings requires_grad: True\n",
      "Combined embeddings grad_fn: <CatBackward0 object at 0x321ed5270>\n",
      "Combined embeddings requires_grad: True\n",
      "Combined embeddings grad_fn: <CatBackward0 object at 0x321ed5270>\n",
      "Logits requires_grad: True\n",
      "Logits grad_fn: None\n",
      "Probabilities requires_grad: True\n",
      "Probabilities grad_fn: <SoftmaxBackward0 object at 0x321ed5570>\n",
      "KL div requires_grad: True\n",
      "KL div grad_fn: <SumBackward1 object at 0x321ed5570>\n",
      "Final loss requires_grad: True\n",
      "Final loss grad_fn: <DivBackward0 object at 0x321ed5570>\n"
     ]
    },
    {
     "name": "stderr",
     "output_type": "stream",
     "text": [
      "Epoch 3/15: 100%|██████████| 1/1 [00:01<00:00,  1.31s/it, avg_kl_per_token=0.00479, kl_divergence=0.527, optimization_loss=-0.527]\n"
     ]
    },
    {
     "name": "stdout",
     "output_type": "stream",
     "text": [
      "Probs requires_grad: False\n",
      "KL div requires_grad: False\n",
      "Final KL div requires_grad: False\n",
      "Final KL div grad_fn: None\n"
     ]
    },
    {
     "name": "stderr",
     "output_type": "stream",
     "text": [
      "Epoch 4/15:   0%|          | 0/1 [00:00<?, ?it/s]"
     ]
    },
    {
     "name": "stdout",
     "output_type": "stream",
     "text": [
      "\n",
      "Starting training step\n",
      "Soft prompt requires_grad: True\n",
      "Base embeddings requires_grad: False\n",
      "\n",
      "Soft Prompt Forward Pass:\n",
      "Input embeddings shape: torch.Size([2, 496, 576])\n",
      "Soft prompt embeddings requires_grad: True\n",
      "Expanded soft prompt requires_grad: True\n",
      "Combined embeddings requires_grad: True\n",
      "Combined embeddings grad_fn: <CatBackward0 object at 0x321ed54b0>\n",
      "\n",
      "Soft Prompt Forward Pass:\n",
      "Input embeddings shape: torch.Size([2, 496, 576])\n",
      "Soft prompt embeddings requires_grad: True\n",
      "Expanded soft prompt requires_grad: True\n",
      "Combined embeddings requires_grad: True\n",
      "Combined embeddings grad_fn: <CatBackward0 object at 0x321ed54b0>\n",
      "Combined embeddings requires_grad: True\n",
      "Combined embeddings grad_fn: <CatBackward0 object at 0x321ed54b0>\n",
      "Logits requires_grad: True\n",
      "Logits grad_fn: None\n",
      "Probabilities requires_grad: True\n",
      "Probabilities grad_fn: <SoftmaxBackward0 object at 0x321ed56c0>\n",
      "KL div requires_grad: True\n",
      "KL div grad_fn: <SumBackward1 object at 0x321ed56c0>\n",
      "Final loss requires_grad: True\n",
      "Final loss grad_fn: <DivBackward0 object at 0x321ed56c0>\n"
     ]
    },
    {
     "name": "stderr",
     "output_type": "stream",
     "text": [
      "Epoch 4/15: 100%|██████████| 1/1 [00:02<00:00,  2.12s/it, avg_kl_per_token=0.00479, kl_divergence=0.527, optimization_loss=-0.527]\n"
     ]
    },
    {
     "name": "stdout",
     "output_type": "stream",
     "text": [
      "Probs requires_grad: False\n",
      "KL div requires_grad: False\n",
      "Final KL div requires_grad: False\n",
      "Final KL div grad_fn: None\n",
      "\n",
      "Early stopping triggered after 4 epochs\n",
      "\n",
      "Preparing analysis...\n",
      "\n",
      "Saving results to outputs/demo/results_pair_0.json\n",
      "\n",
      "Testing JSON serialization...\n",
      "Results successfully saved\n",
      "Error: tuple indices must be integers or slices, not str\n"
     ]
    }
   ],
   "source": [
    "# Run validation only\n",
    "try:\n",
    "    # First validate\n",
    "    runner.model_manager.validate_models()\n",
    "\n",
    "    # Then run if validation passes\n",
    "    results = runner.run()\n",
    "    print(\"Experiment completed successfully!\")\n",
    "except Exception as e:\n",
    "    print(f\"Error: {e}\")"
   ]
  },
  {
   "cell_type": "markdown",
   "metadata": {},
   "source": [
    "## Analyze Results"
   ]
  },
  {
   "cell_type": "code",
   "execution_count": null,
   "metadata": {},
   "outputs": [],
   "source": [
    "from src.soft_prompting.analysis.divergence_analyzer import DivergenceAnalyzer\n",
    "\n",
    "# In your analysis script\n",
    "analyzer = DivergenceAnalyzer(\n",
    "    metrics=runner.trainer.divergence_metrics, output_dir=output_dir\n",
    ")"
   ]
  },
  {
   "cell_type": "code",
   "execution_count": null,
   "metadata": {},
   "outputs": [],
   "source": []
  },
  {
   "cell_type": "code",
   "execution_count": null,
   "metadata": {},
   "outputs": [],
   "source": [
    "# Generate analysis report\n",
    "report = analyzer.generate_report(\n",
    "    dataset=results[\"dataset\"], output_file=\"analysis_report.json\"\n",
    ")\n",
    "\n",
    "# Display key findings about early stopping\n",
    "print(\"\\nEarly Stopping Analysis:\")\n",
    "print(f\"Total runs: {report['overall_stats']['early_stopping_stats']['total_runs']}\")\n",
    "print(\n",
    "    f\"Runs stopped early: {report['overall_stats']['early_stopping_stats']['early_stopped_runs']}\"\n",
    ")\n",
    "\n",
    "if \"training_analysis\" in report[\"divergence_patterns\"]:\n",
    "    analysis = report[\"divergence_patterns\"][\"training_analysis\"]\n",
    "    print(f\"\\nBest divergence achieved: {analysis['best_divergence']:.4f}\")\n",
    "    print(f\"Reached at epoch: {analysis['convergence_epoch']}\")"
   ]
  },
  {
   "cell_type": "code",
   "execution_count": null,
   "metadata": {},
   "outputs": [],
   "source": []
  }
 ],
 "metadata": {
  "kernelspec": {
   "display_name": "Python 3",
   "language": "python",
   "name": "python3"
  },
  "language_info": {
   "codemirror_mode": {
    "name": "ipython",
    "version": 3
   },
   "file_extension": ".py",
   "mimetype": "text/x-python",
   "name": "python",
   "nbconvert_exporter": "python",
   "pygments_lexer": "ipython3",
   "version": "3.11.10"
  }
 },
 "nbformat": 4,
 "nbformat_minor": 4
}
